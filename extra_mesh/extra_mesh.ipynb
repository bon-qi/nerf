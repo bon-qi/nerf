{
 "cells": [
  {
   "cell_type": "code",
   "execution_count": null,
   "metadata": {},
   "outputs": [],
   "source": [
    "import torch\n",
    "import numpy as np\n",
    "import trimesh\n",
    "import mcubes\n",
    "import configargparse\n",
    "\n",
    "import polyscope as ps\n",
    "import plotly.graph_objects as go\n",
    "\n",
    "from model.nerf import NeRF\n",
    "from model.embedder import get_embedder\n",
    "from model.utils import batchify\n",
    "\n",
    "\n",
    "if torch.cuda.is_available(): \n",
    "    print(\"Using cuda as default device.\")\n",
    "    torch.set_default_tensor_type('torch.cuda.FloatTensor')\n",
    "else :\n",
    "    print(\"Using cpu for default device\")\n",
    "    torch.set_default_tensor_type(\"torch.float32\")\n",
    "\n",
    "print(\"torch.__version__: \",torch.__version__)\n",
    "\n"
   ]
  },
  {
   "cell_type": "markdown",
   "metadata": {},
   "source": [
    "## Helper functions: visualization\n",
    "Input: triangle mesh\n",
    "\n",
    "Output: a visualized sence"
   ]
  },
  {
   "cell_type": "code",
   "execution_count": null,
   "metadata": {},
   "outputs": [],
   "source": [
    "## visualize data with plotly\n",
    "def visualize_plotly(vertices, triangles):\n",
    "    fig = go.Figure(data=[\n",
    "        go.Mesh3d(\n",
    "            # 8 vertices of a cube\n",
    "            x=vertices[:,0],\n",
    "            y=vertices[:,1],\n",
    "            z=vertices[:,2],\n",
    "            colorbar_title='z',\n",
    "            colorscale=[[0, 'gold'],\n",
    "                        [0.5, 'mediumturquoise'],\n",
    "                        [1, 'magenta']],\n",
    "            # Intensity of each vertex, which will be interpolated and color-coded\n",
    "            intensity = np.linspace(0, 1, 12, endpoint=True),\n",
    "            intensitymode='cell',\n",
    "            # i, j and k give the vertices of triangles\n",
    "            i = triangles[:,0],\n",
    "            j = triangles[:,1],\n",
    "            k = triangles[:,2],\n",
    "            name='y',\n",
    "            showscale=True\n",
    "        )\n",
    "    ])\n",
    "    fig.show()"
   ]
  },
  {
   "cell_type": "markdown",
   "metadata": {},
   "source": [
    "## Core: extra geometry from NeRF"
   ]
  },
  {
   "cell_type": "code",
   "execution_count": null,
   "metadata": {},
   "outputs": [],
   "source": [
    "## code borrowed from NeuS\n",
    "def extract_geometry(bound_min, bound_max, resolution, threshold, query_func):\n",
    "    print('threshold: {}'.format(threshold))\n",
    "\n",
    "    ## extract value field\n",
    "    N = 64\n",
    "    X = torch.linspace(bound_min[0], bound_max[0], resolution).split(N)\n",
    "    Y = torch.linspace(bound_min[1], bound_max[1], resolution).split(N)\n",
    "    Z = torch.linspace(bound_min[2], bound_max[2], resolution).split(N)\n",
    "\n",
    "    u = np.zeros([resolution, resolution, resolution], dtype=np.float32)\n",
    "    with torch.no_grad():\n",
    "        for xi, xs in enumerate(X):\n",
    "            for yi, ys in enumerate(Y):\n",
    "                for zi, zs in enumerate(Z):\n",
    "                    xx, yy, zz = torch.meshgrid(xs, ys, zs)\n",
    "                    pts = torch.cat([xx.reshape(-1, 1), yy.reshape(-1, 1), zz.reshape(-1, 1)], dim=-1)\n",
    "                    val = query_func(pts).reshape(len(xs), len(ys), len(zs)).detach().cpu().numpy()\n",
    "                    u[xi * N: xi * N + len(xs), yi * N: yi * N + len(ys), zi * N: zi * N + len(zs)] = val\n",
    "    ## came out with marching cubes\n",
    "    vertices, triangles = mcubes.marching_cubes(u, threshold)\n",
    "    b_max_np = bound_max.detach().cpu().numpy()\n",
    "    b_min_np = bound_min.detach().cpu().numpy()\n",
    "    vertices = vertices / (resolution - 1.0) * (b_max_np - b_min_np)[None, :] + b_min_np[None, :]\n",
    "    return vertices, triangles"
   ]
  },
  {
   "cell_type": "markdown",
   "metadata": {},
   "source": [
    "## Extra from your network"
   ]
  },
  {
   "cell_type": "markdown",
   "metadata": {},
   "source": []
  },
  {
   "cell_type": "code",
   "execution_count": 1,
   "metadata": {},
   "outputs": [],
   "source": [
    "\n",
    "## given points([n_pts, 3]) and NeRF\n",
    "def network_alpha(input_pts, nerf, embed_fn, embeddirs_fn, netchunk=1024*32):\n",
    "    embedded_pts  = embed_fn(input_pts)\n",
    "    embedded_dirs = embeddirs_fn(input_pts) ## yes, view_dir = pts\n",
    "    embedded = torch.cat([embedded_pts, embedded_dirs], -1)\n",
    "    outputs_flat = batchify(nerf, netchunk)(embedded)\n",
    "    return outputs_flat[:,-1]\n",
    "\n",
    "def extra_mesh( model_path=\"../pretrained/lego_018000.tar\", bound_min = [-2,-2,-2], bound_max = [2,2,2],  \n",
    "                resolution = 200, save_path = \"./mesh.ply\", visualize = \"plotly\"):\n",
    "    ## preparing for loading data\n",
    "    embed_fn, input_ch = get_embedder(10)\n",
    "    embeddirs_fn, input_ch_views = get_embedder(4)\n",
    "    model = NeRF(D=8, W=256,input_ch=input_ch, output_ch=4, skips=[4], input_ch_views=input_ch_views, use_viewdirs=True)\n",
    "    ckpt = torch.load(model_path)\n",
    "    model.load_state_dict(ckpt['network_fn_state_dict'])\n",
    "\n",
    "    ## preparing for marching cubes\n",
    "    bound_min = torch.tensor(bound_min, dtype=torch.float32)\n",
    "    bound_max = torch.tensor(bound_max, dtype=torch.float32)\n",
    "    print(\"Marching_cubing\")\n",
    "    vertices, triangles = extract_geometry(bound_min, bound_max, resolution=resolution, threshold=0.5, \n",
    "                                            query_func=lambda x: network_alpha(x, model, embed_fn, embeddirs_fn))\n",
    "    print(\"Marching_cubing Done!\")\n",
    "    mesh = trimesh.Trimesh(vertices, triangles)\n",
    "    \n",
    "    if save_path != \"\":\n",
    "        print(\"Saving into \", save_path)\n",
    "        mesh.export(save_path)\n",
    "    \n",
    "    if visualize==\"plotly\":\n",
    "        visualize_plotly(vertices, triangles)\n",
    "    else:\n",
    "        pass"
   ]
  },
  {
   "cell_type": "markdown",
   "metadata": {},
   "source": [
    "## Result: Extra mesh and visualize it!"
   ]
  },
  {
   "cell_type": "code",
   "execution_count": null,
   "metadata": {},
   "outputs": [],
   "source": [
    "extra_mesh(model_path=\"../pretrained/lego_018000.tar\", bound_min = [-2,-2,-0.5], bound_max = [2,2,2], \n",
    "            resolution = 200, save_path = \"./mesh_lego.ply\", visualize = \"plotly\")"
   ]
  },
  {
   "cell_type": "markdown",
   "metadata": {},
   "source": [
    "Cool! Lets's play around with more models!\n",
    "### Suggestions:\n",
    "Generally, we provide pretrained model, and they were tested to be lied at bounds below\n",
    "```\n",
    "    ficus: bound_min [-0.5, -1, -1.5], bound_max [0.5, 1, 1.5]\n",
    "    chair: bound_min [-1, -1, -1],     bound_max [1, 1, 1.5]\n",
    "    lego:  bound_min [-2, -2, -0.5],   bound_max [2, 2, 2] \n",
    "    fern:  bound_min [-2, -2, -0.5],   bound_max [2, 2, 1] \n",
    "```\n",
    "If you are handling with your own data, please tried for several times to the essential content (`polyscope` is friendly for positions).\n"
   ]
  },
  {
   "cell_type": "markdown",
   "metadata": {},
   "source": []
  },
  {
   "cell_type": "code",
   "execution_count": null,
   "metadata": {},
   "outputs": [],
   "source": [
    "extra_mesh( model_path=\"../pretrained/ficus_020000.tar\", bound_min = [-0.5, -1, -1.5], bound_max = [0.5, 1, 1.5], \n",
    "            resolution = 200, save_path = \"./mesh_ficus.ply\", visualize = \"plotly\")"
   ]
  },
  {
   "cell_type": "code",
   "execution_count": null,
   "metadata": {},
   "outputs": [],
   "source": [
    "extra_mesh( model_path=\"../pretrained/chair_020000.tar\", bound_min = [-1, -1, -1], bound_max = [1, 1, 1.5], \n",
    "            resolution = 200, save_path = \"./mesh_chair.ply\", visualize = \"plotly\")"
   ]
  },
  {
   "cell_type": "code",
   "execution_count": null,
   "metadata": {},
   "outputs": [],
   "source": [
    "extra_mesh( model_path=\"../pretrained/fern_020000.tar\", bound_min = [-2, -2, -0.5], bound_max = [2, 2, 1], \n",
    "            resolution = 200, save_path = \"./mesh_fern.ply\", visualize = \"plotly\")"
   ]
  },
  {
   "cell_type": "markdown",
   "metadata": {},
   "source": [
    "Cool! How about rendering colors with textures?\n",
    "\n",
    "That is a question..."
   ]
  },
  {
   "cell_type": "markdown",
   "metadata": {},
   "source": []
  }
 ],
 "metadata": {
  "kernelspec": {
   "display_name": "Python 3.9.12 ('base')",
   "language": "python",
   "name": "python3"
  },
  "language_info": {
   "codemirror_mode": {
    "name": "ipython",
    "version": 3
   },
   "file_extension": ".py",
   "mimetype": "text/x-python",
   "name": "python",
   "nbconvert_exporter": "python",
   "pygments_lexer": "ipython3",
   "version": "3.9.12"
  },
  "orig_nbformat": 4,
  "vscode": {
   "interpreter": {
    "hash": "66220d1211af22780c7d8fbc62e66cdb903470c9cd2bb23e8214ed5b939b7d29"
   }
  }
 },
 "nbformat": 4,
 "nbformat_minor": 2
}
