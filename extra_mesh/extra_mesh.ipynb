{
 "cells": [
  {
   "cell_type": "code",
   "execution_count": null,
   "metadata": {},
   "outputs": [],
   "source": [
    "import torch\n",
    "import numpy as np\n",
    "import trimesh\n",
    "import mcubes\n",
    "import configargparse\n",
    "\n",
    "import polyscope as ps\n",
    "import plotly.graph_objects as go\n",
    "\n",
    "from model.nerf import NeRF\n",
    "from model.embedder import get_embedder\n",
    "from model.utils import batchify\n",
    "\n",
    "\n",
    "if torch.cuda.is_available(): \n",
    "    print(\"Using cuda as default device.\")\n",
    "    torch.set_default_tensor_type('torch.cuda.FloatTensor')\n",
    "else :\n",
    "    print(\"Using cpu for default device\")\n",
    "    torch.set_default_tensor_type(\"torch.float32\")\n",
    "\n",
    "print(\"torch.__version__: \",torch.__version__)\n",
    "\n"
   ]
  }
 ],
 "metadata": {
  "kernelspec": {
   "display_name": "Python 3.9.12 ('base')",
   "language": "python",
   "name": "python3"
  },
  "language_info": {
   "name": "python",
   "version": "3.9.12"
  },
  "orig_nbformat": 4,
  "vscode": {
   "interpreter": {
    "hash": "66220d1211af22780c7d8fbc62e66cdb903470c9cd2bb23e8214ed5b939b7d29"
   }
  }
 },
 "nbformat": 4,
 "nbformat_minor": 2
}
